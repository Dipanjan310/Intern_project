{
 "cells": [
  {
   "cell_type": "code",
   "execution_count": 1,
   "metadata": {},
   "outputs": [],
   "source": [
    "import matplotlib.pyplot as plt\n",
    "import numpy as np\n",
    "from qutip import Bloch, about, basis, mesolve, sigmam, sigmax, sigmay, sigmaz\n",
    "\n",
    "%matplotlib inline"
   ]
  },
  {
   "cell_type": "code",
   "execution_count": 5,
   "metadata": {},
   "outputs": [
    {
     "data": {
      "application/vnd.jupyter.widget-view+json": {
       "model_id": "841a01eeeed5460a800b617b7aca7604",
       "version_major": 2,
       "version_minor": 0
      },
      "text/plain": [
       "interactive(children=(FloatSlider(value=1.0, description='delta', max=2.0, min=1.0), FloatSlider(value=0.0, de…"
      ]
     },
     "metadata": {},
     "output_type": "display_data"
    },
    {
     "data": {
      "text/plain": [
       "<function __main__.qubit_dynamics(delta, beta, time_steps=100, t_max=10)>"
      ]
     },
     "execution_count": 5,
     "metadata": {},
     "output_type": "execute_result"
    }
   ],
   "source": [
    "import numpy as np\n",
    "import matplotlib.pyplot as plt\n",
    "from qutip import *\n",
    "from ipywidgets import interact\n",
    "\n",
    "def qubit_dynamics(delta, beta, time_steps=100, t_max=10):\n",
    "    \n",
    "    sx = sigmax()\n",
    "    sz = sigmaz()\n",
    "    delta = 2*np.pi\n",
    "    # beta = 0.25\n",
    "    \n",
    "    #Hamiltonians\n",
    "    H_sys = delta/2.0 * sx  \n",
    "    c_ops = np.sqrt(beta) * sz \n",
    "    \n",
    "    psi0 = basis(2, 0)\n",
    "\n",
    "    tlist = np.linspace(0, t_max, time_steps)\n",
    "    result = mesolve(H_sys, psi0, tlist, c_ops, [sz])\n",
    "    \n",
    "    #Plot\n",
    "    plt.figure(figsize=(8,5))\n",
    "    plt.plot(tlist, result.expect[0], label='Expectation ⟨Z⟩')\n",
    "    plt.scatter(tlist, result.expect[0], c=\"r\", marker=\"x\", label=\"mesolve\")\n",
    "    plt.xlabel('Time')\n",
    "    plt.ylabel('Expectation Value')\n",
    "    plt.title('Qubit Dynamics')\n",
    "\n",
    "    plt.legend()\n",
    "    plt.grid()\n",
    "    plt.show()\n",
    "\n",
    "# parameters changing\n",
    "interact(qubit_dynamics, delta=(1, 2, 0.1), beta=(-1, 2, 0.1), time_steps=(50, 300, 10), t_max=(5, 20, 1))"
   ]
  },
  {
   "cell_type": "code",
   "execution_count": null,
   "metadata": {},
   "outputs": [],
   "source": []
  }
 ],
 "metadata": {
  "kernelspec": {
   "display_name": "cwq1",
   "language": "python",
   "name": "python3"
  },
  "language_info": {
   "codemirror_mode": {
    "name": "ipython",
    "version": 3
   },
   "file_extension": ".py",
   "mimetype": "text/x-python",
   "name": "python",
   "nbconvert_exporter": "python",
   "pygments_lexer": "ipython3",
   "version": "3.12.3"
  }
 },
 "nbformat": 4,
 "nbformat_minor": 2
}
